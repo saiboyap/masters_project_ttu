{
  "nbformat": 4,
  "nbformat_minor": 0,
  "metadata": {
    "colab": {
      "provenance": []
    },
    "kernelspec": {
      "name": "python3",
      "display_name": "Python 3"
    },
    "language_info": {
      "name": "python"
    }
  },
  "cells": [
    {
      "cell_type": "code",
      "execution_count": null,
      "metadata": {
        "colab": {
          "base_uri": "https://localhost:8080/",
          "height": 391
        },
        "id": "7ah8AJzfTvNc",
        "outputId": "6a958799-1fc6-42f1-b0c9-3e56a183ddb4"
      },
      "outputs": [
        {
          "output_type": "stream",
          "name": "stdout",
          "text": [
            "Mounted at /content/drive\n"
          ]
        },
        {
          "output_type": "error",
          "ename": "AssertionError",
          "evalue": "Expected shape () does not match data size 47040011",
          "traceback": [
            "\u001b[0;31m---------------------------------------------------------------------------\u001b[0m",
            "\u001b[0;31mAssertionError\u001b[0m                            Traceback (most recent call last)",
            "\u001b[0;32m<ipython-input-9-77cb9db77d24>\u001b[0m in \u001b[0;36m<cell line: 62>\u001b[0;34m()\u001b[0m\n\u001b[1;32m     60\u001b[0m \u001b[0;34m\u001b[0m\u001b[0m\n\u001b[1;32m     61\u001b[0m \u001b[0;31m# Load the dataset\u001b[0m\u001b[0;34m\u001b[0m\u001b[0;34m\u001b[0m\u001b[0m\n\u001b[0;32m---> 62\u001b[0;31m \u001b[0mmnist_train\u001b[0m\u001b[0;34m.\u001b[0m\u001b[0mload_dataset\u001b[0m\u001b[0;34m(\u001b[0m\u001b[0;34m)\u001b[0m\u001b[0;34m\u001b[0m\u001b[0;34m\u001b[0m\u001b[0m\n\u001b[0m\u001b[1;32m     63\u001b[0m \u001b[0mtrain_images\u001b[0m\u001b[0;34m,\u001b[0m \u001b[0mtrain_labels\u001b[0m \u001b[0;34m=\u001b[0m \u001b[0mmnist_train\u001b[0m\u001b[0;34m.\u001b[0m\u001b[0mget_train_data\u001b[0m\u001b[0;34m(\u001b[0m\u001b[0;34m)\u001b[0m\u001b[0;34m\u001b[0m\u001b[0;34m\u001b[0m\u001b[0m\n\u001b[1;32m     64\u001b[0m \u001b[0;34m\u001b[0m\u001b[0m\n",
            "\u001b[0;32m<ipython-input-9-77cb9db77d24>\u001b[0m in \u001b[0;36mload_dataset\u001b[0;34m(self)\u001b[0m\n\u001b[1;32m     38\u001b[0m \u001b[0;34m\u001b[0m\u001b[0m\n\u001b[1;32m     39\u001b[0m     \u001b[0;32mdef\u001b[0m \u001b[0mload_dataset\u001b[0m\u001b[0;34m(\u001b[0m\u001b[0mself\u001b[0m\u001b[0;34m)\u001b[0m\u001b[0;34m:\u001b[0m\u001b[0;34m\u001b[0m\u001b[0;34m\u001b[0m\u001b[0m\n\u001b[0;32m---> 40\u001b[0;31m         \u001b[0mself\u001b[0m\u001b[0;34m.\u001b[0m\u001b[0mimages\u001b[0m \u001b[0;34m=\u001b[0m \u001b[0mself\u001b[0m\u001b[0;34m.\u001b[0m\u001b[0mread_idx\u001b[0m\u001b[0;34m(\u001b[0m\u001b[0mself\u001b[0m\u001b[0;34m.\u001b[0m\u001b[0mimage_path\u001b[0m\u001b[0;34m)\u001b[0m\u001b[0;34m\u001b[0m\u001b[0;34m\u001b[0m\u001b[0m\n\u001b[0m\u001b[1;32m     41\u001b[0m         \u001b[0mself\u001b[0m\u001b[0;34m.\u001b[0m\u001b[0mlabels\u001b[0m \u001b[0;34m=\u001b[0m \u001b[0mself\u001b[0m\u001b[0;34m.\u001b[0m\u001b[0mread_idx\u001b[0m\u001b[0;34m(\u001b[0m\u001b[0mself\u001b[0m\u001b[0;34m.\u001b[0m\u001b[0mlabel_path\u001b[0m\u001b[0;34m)\u001b[0m\u001b[0;34m\u001b[0m\u001b[0;34m\u001b[0m\u001b[0m\n\u001b[1;32m     42\u001b[0m \u001b[0;34m\u001b[0m\u001b[0m\n",
            "\u001b[0;32m<ipython-input-9-77cb9db77d24>\u001b[0m in \u001b[0;36mread_idx\u001b[0;34m(self, filename)\u001b[0m\n\u001b[1;32m     27\u001b[0m \u001b[0;34m\u001b[0m\u001b[0m\n\u001b[1;32m     28\u001b[0m             \u001b[0;31m# Check if the shape matches expected size\u001b[0m\u001b[0;34m\u001b[0m\u001b[0;34m\u001b[0m\u001b[0m\n\u001b[0;32m---> 29\u001b[0;31m             \u001b[0;32massert\u001b[0m \u001b[0mdata\u001b[0m\u001b[0;34m.\u001b[0m\u001b[0msize\u001b[0m \u001b[0;34m==\u001b[0m \u001b[0mnp\u001b[0m\u001b[0;34m.\u001b[0m\u001b[0mprod\u001b[0m\u001b[0;34m(\u001b[0m\u001b[0mshape\u001b[0m\u001b[0;34m)\u001b[0m\u001b[0;34m,\u001b[0m \u001b[0;34mf\"Expected shape {shape} does not match data size {data.size}\"\u001b[0m\u001b[0;34m\u001b[0m\u001b[0;34m\u001b[0m\u001b[0m\n\u001b[0m\u001b[1;32m     30\u001b[0m \u001b[0;34m\u001b[0m\u001b[0m\n\u001b[1;32m     31\u001b[0m             \u001b[0mdata\u001b[0m \u001b[0;34m=\u001b[0m \u001b[0mdata\u001b[0m\u001b[0;34m.\u001b[0m\u001b[0mreshape\u001b[0m\u001b[0;34m(\u001b[0m\u001b[0mshape\u001b[0m\u001b[0;34m)\u001b[0m\u001b[0;34m\u001b[0m\u001b[0;34m\u001b[0m\u001b[0m\n",
            "\u001b[0;31mAssertionError\u001b[0m: Expected shape () does not match data size 47040011"
          ]
        }
      ],
      "source": [
        "import struct\n",
        "import numpy as np\n",
        "from google.colab import drive\n",
        "\n",
        "drive.mount('/content/drive', force_remount=True)\n",
        "\n",
        "class MNISTDataset:\n",
        "    def __init__(self, image_path, label_path):\n",
        "        self.image_path = image_path\n",
        "        self.label_path = label_path\n",
        "        self.images = None\n",
        "        self.labels = None\n",
        "\n",
        "    def read_idx(self, filename):\n",
        "        with open(filename, 'rb') as f:\n",
        "            # Read magic number and check validity\n",
        "            magic_number = struct.unpack('>I', f.read(4))[0]\n",
        "            if magic_number != 2051 and magic_number != 2049:\n",
        "                raise ValueError(f'Invalid magic number {magic_number} in IDX file')\n",
        "\n",
        "            # Read dimensions\n",
        "            dims = struct.unpack('>B', f.read(1))[0]\n",
        "            shape = tuple(struct.unpack('>I', f.read(4))[0] for _ in range(dims))\n",
        "\n",
        "            # Read data\n",
        "            data = np.frombuffer(f.read(), dtype=np.uint8)\n",
        "\n",
        "            # Check if the shape matches expected size\n",
        "            assert data.size == np.prod(shape), f\"Expected shape {shape} does not match data size {data.size}\"\n",
        "\n",
        "            data = data.reshape(shape)\n",
        "\n",
        "            # For labels, ensure they are flattened to 1D array\n",
        "            if dims == 1:\n",
        "                data = data.ravel()\n",
        "\n",
        "            return data\n",
        "\n",
        "    def load_dataset(self):\n",
        "        self.images = self.read_idx(self.image_path)\n",
        "        self.labels = self.read_idx(self.label_path)\n",
        "\n",
        "    def get_train_data(self):\n",
        "        return self.images, self.labels\n",
        "\n",
        "    def get_test_data(self):\n",
        "        test_images = self.read_idx(self.image_path.replace('train', 't10k'))\n",
        "        test_labels = self.read_idx(self.label_path.replace('train', 't10k'))\n",
        "        return test_images, test_labels\n",
        "\n",
        "# Update paths for MNIST dataset in your Google Drive\n",
        "image_path_train = '/content/drive/MyDrive/MNIST/train-images.idx3-ubyte'\n",
        "label_path_train = '/content/drive/MyDrive/MNIST/train-labels.idx1-ubyte'\n",
        "image_path_test = '/content/drive/MyDrive/MNIST/t10k-images.idx3-ubyte'\n",
        "label_path_test = '/content/drive/MyDrive/MNIST/t10k-labels.idx1-ubyte'\n",
        "\n",
        "# Initialize the dataset\n",
        "mnist_train = MNISTDataset(image_path_train, label_path_train)\n",
        "mnist_test = MNISTDataset(image_path_test, label_path_test)\n",
        "\n",
        "# Load the dataset\n",
        "mnist_train.load_dataset()\n",
        "train_images, train_labels = mnist_train.get_train_data()\n",
        "\n",
        "test_images, test_labels = mnist_test.get_test_data()\n"
      ]
    }
  ]
}