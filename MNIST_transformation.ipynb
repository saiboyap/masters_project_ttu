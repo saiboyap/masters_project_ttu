{
  "nbformat": 4,
  "nbformat_minor": 0,
  "metadata": {
    "colab": {
      "provenance": []
    },
    "kernelspec": {
      "name": "python3",
      "display_name": "Python 3"
    },
    "language_info": {
      "name": "python"
    }
  },
  "cells": [
    {
      "cell_type": "code",
      "execution_count": 2,
      "metadata": {
        "id": "pSvOo5AIqtNX"
      },
      "outputs": [],
      "source": [
        "import os\n",
        "import random\n",
        "\n",
        "import torch\n",
        "import torch.nn as nn\n",
        "import torch.nn.functional as F\n",
        "import torch.optim as optim\n",
        "import torch.utils.data as data\n",
        "import torchvision\n",
        "\n",
        "import numpy as np\n",
        "import matplotlib.pyplot as plt\n",
        "from datetime import datetime\n",
        "from tqdm.notebook import tqdm_notebook"
      ]
    },
    {
      "cell_type": "code",
      "source": [
        "import random\n",
        "import numpy as np\n",
        "import torch\n",
        "\n",
        "# Setting the seed for Python's built-in random module\n",
        "random.seed(42)\n",
        "\n",
        "# Setting the seed for numpy's random number generator\n",
        "np.random.seed(42)\n",
        "\n",
        "# Setting the seed for PyTorch (both CPU and GPU)\n",
        "torch.manual_seed(2147483647)\n",
        "\n",
        "# If using CUDA, set the seed for all GPUs\n",
        "if torch.cuda.is_available():\n",
        "    torch.cuda.manual_seed_all(2147483647)\n",
        "\n",
        "# Ensuring deterministic behavior in PyTorch\n",
        "torch.use_deterministic_algorithms(True)\n",
        "\n",
        "# Optionally, set the environment variable for deterministic behavior in cuDNN\n",
        "import os\n",
        "os.environ['CUBLAS_WORKSPACE_CONFIG'] = ':4096:8'\n",
        "\n",
        "# Ensure that all operations are deterministic on GPU (if used) for reproducibility\n",
        "torch.backends.cudnn.deterministic = True\n",
        "torch.backends.cudnn.benchmark = False\n",
        "\n",
        "# Select the device\n",
        "device = torch.device(\"cuda:0\") if torch.cuda.is_available() else torch.device(\"cpu\")\n",
        "print(\"Device:\", device)\n"
      ],
      "metadata": {
        "colab": {
          "base_uri": "https://localhost:8080/"
        },
        "id": "BmCNjIkArE_a",
        "outputId": "f35bf45d-4c97-4bd4-ff92-f45c4b49fc4f"
      },
      "execution_count": 3,
      "outputs": [
        {
          "output_type": "stream",
          "name": "stdout",
          "text": [
            "Device: cpu\n"
          ]
        }
      ]
    },
    {
      "cell_type": "code",
      "source": [
        "import torch\n",
        "import torchvision\n",
        "import torchvision.transforms as transforms\n",
        "\n",
        "# Define preprocessing transformations\n",
        "transform = transforms.Compose([\n",
        "    transforms.ToTensor(),\n",
        "    transforms.Normalize(mean=(0.5,), std=(0.5,))\n",
        "])\n",
        "\n",
        "# Download and prepare the MNIST dataset\n",
        "mnist_train_val = torchvision.datasets.MNIST(\n",
        "    root='datasets/mnist', train=True, transform=transform, download=True)\n",
        "mnist_test = torchvision.datasets.MNIST(\n",
        "    root='datasets/mnist', train=False, transform=transform, download=True)\n",
        "\n",
        "# Split the training dataset into training and validation sets\n",
        "train_size = 50000\n",
        "val_size = len(mnist_train_val) - train_size\n",
        "train_subset, val_subset = torch.utils.data.random_split(mnist_train_val, [train_size, val_size])\n",
        "\n",
        "# Create data loaders\n",
        "train_loader = torch.utils.data.DataLoader(train_subset, batch_size=32, shuffle=True)\n",
        "val_loader = torch.utils.data.DataLoader(val_subset, batch_size=32, shuffle=False)\n",
        "test_loader = torch.utils.data.DataLoader(mnist_test, batch_size=32, shuffle=False)\n",
        "\n",
        "# Print the sizes of the datasets to verify\n",
        "print(f'Training set size: {len(train_subset)}')\n",
        "print(f'Validation set size: {len(val_subset)}')\n",
        "print(f'Test set size: {len(mnist_test)}')\n"
      ],
      "metadata": {
        "colab": {
          "base_uri": "https://localhost:8080/"
        },
        "id": "MPJ8IRJ7r9CM",
        "outputId": "604c98d5-96dc-4e15-db07-feeaaffdd7ac"
      },
      "execution_count": 4,
      "outputs": [
        {
          "output_type": "stream",
          "name": "stdout",
          "text": [
            "Downloading http://yann.lecun.com/exdb/mnist/train-images-idx3-ubyte.gz\n",
            "Failed to download (trying next):\n",
            "<urlopen error [Errno -5] No address associated with hostname>\n",
            "\n",
            "Downloading https://ossci-datasets.s3.amazonaws.com/mnist/train-images-idx3-ubyte.gz\n",
            "Downloading https://ossci-datasets.s3.amazonaws.com/mnist/train-images-idx3-ubyte.gz to datasets/mnist/MNIST/raw/train-images-idx3-ubyte.gz\n"
          ]
        },
        {
          "output_type": "stream",
          "name": "stderr",
          "text": [
            "100%|██████████| 9912422/9912422 [00:00<00:00, 130192212.23it/s]\n"
          ]
        },
        {
          "output_type": "stream",
          "name": "stdout",
          "text": [
            "Extracting datasets/mnist/MNIST/raw/train-images-idx3-ubyte.gz to datasets/mnist/MNIST/raw\n",
            "\n",
            "Downloading http://yann.lecun.com/exdb/mnist/train-labels-idx1-ubyte.gz\n",
            "Failed to download (trying next):\n",
            "HTTP Error 403: Forbidden\n",
            "\n",
            "Downloading https://ossci-datasets.s3.amazonaws.com/mnist/train-labels-idx1-ubyte.gz\n",
            "Downloading https://ossci-datasets.s3.amazonaws.com/mnist/train-labels-idx1-ubyte.gz to datasets/mnist/MNIST/raw/train-labels-idx1-ubyte.gz\n"
          ]
        },
        {
          "output_type": "stream",
          "name": "stderr",
          "text": [
            "100%|██████████| 28881/28881 [00:00<00:00, 49182173.70it/s]"
          ]
        },
        {
          "output_type": "stream",
          "name": "stdout",
          "text": [
            "Extracting datasets/mnist/MNIST/raw/train-labels-idx1-ubyte.gz to datasets/mnist/MNIST/raw\n",
            "\n",
            "Downloading http://yann.lecun.com/exdb/mnist/t10k-images-idx3-ubyte.gz\n",
            "Failed to download (trying next):\n",
            "HTTP Error 403: Forbidden\n",
            "\n",
            "Downloading https://ossci-datasets.s3.amazonaws.com/mnist/t10k-images-idx3-ubyte.gz\n"
          ]
        },
        {
          "output_type": "stream",
          "name": "stderr",
          "text": [
            "\n"
          ]
        },
        {
          "output_type": "stream",
          "name": "stdout",
          "text": [
            "Downloading https://ossci-datasets.s3.amazonaws.com/mnist/t10k-images-idx3-ubyte.gz to datasets/mnist/MNIST/raw/t10k-images-idx3-ubyte.gz\n"
          ]
        },
        {
          "output_type": "stream",
          "name": "stderr",
          "text": [
            "100%|██████████| 1648877/1648877 [00:00<00:00, 86355809.96it/s]\n"
          ]
        },
        {
          "output_type": "stream",
          "name": "stdout",
          "text": [
            "Extracting datasets/mnist/MNIST/raw/t10k-images-idx3-ubyte.gz to datasets/mnist/MNIST/raw\n",
            "\n",
            "Downloading http://yann.lecun.com/exdb/mnist/t10k-labels-idx1-ubyte.gz\n",
            "Failed to download (trying next):\n",
            "HTTP Error 403: Forbidden\n",
            "\n",
            "Downloading https://ossci-datasets.s3.amazonaws.com/mnist/t10k-labels-idx1-ubyte.gz\n",
            "Downloading https://ossci-datasets.s3.amazonaws.com/mnist/t10k-labels-idx1-ubyte.gz to datasets/mnist/MNIST/raw/t10k-labels-idx1-ubyte.gz\n"
          ]
        },
        {
          "output_type": "stream",
          "name": "stderr",
          "text": [
            "100%|██████████| 4542/4542 [00:00<00:00, 4751940.33it/s]"
          ]
        },
        {
          "output_type": "stream",
          "name": "stdout",
          "text": [
            "Extracting datasets/mnist/MNIST/raw/t10k-labels-idx1-ubyte.gz to datasets/mnist/MNIST/raw\n",
            "\n"
          ]
        },
        {
          "output_type": "stream",
          "name": "stderr",
          "text": [
            "\n"
          ]
        },
        {
          "output_type": "stream",
          "name": "stdout",
          "text": [
            "Training set size: 50000\n",
            "Validation set size: 10000\n",
            "Test set size: 10000\n"
          ]
        }
      ]
    },
    {
      "cell_type": "code",
      "source": [
        "import torch\n",
        "import torchvision\n",
        "\n",
        "# Function to print dimensions of images and labels in the data loader\n",
        "def check_loader_dimensions(loaders):\n",
        "    for name, loader in loaders.items():\n",
        "        num_samples = len(loader.dataset)\n",
        "        data_iter = iter(loader)\n",
        "        images, labels = next(data_iter)\n",
        "        print(f'Loader: {name}')\n",
        "        print(f'Number of samples: {num_samples}')\n",
        "        print(f'Image batch shape: {images.shape}')\n",
        "        print(f'Label batch shape: {labels.shape}')\n",
        "        print('------------------------')\n",
        "\n",
        "# Define preprocessing transformations\n",
        "transform = torchvision.transforms.Compose([\n",
        "    torchvision.transforms.ToTensor(),\n",
        "    torchvision.transforms.Normalize((0.5,), (0.5,))\n",
        "])\n",
        "\n",
        "# Download and prepare the MNIST dataset\n",
        "mnist_train_val = torchvision.datasets.MNIST(\n",
        "    root='datasets/mnist', train=True, transform=transform, download=True)\n",
        "mnist_test = torchvision.datasets.MNIST(\n",
        "    root='datasets/mnist', train=False, transform=transform, download=True)\n",
        "\n",
        "# Split the training dataset into training and validation sets\n",
        "train_size = 50000\n",
        "val_size = len(mnist_train_val) - train_size\n",
        "train_subset, val_subset = torch.utils.data.random_split(mnist_train_val, [train_size, val_size])\n",
        "\n",
        "# Create data loaders\n",
        "loaders = {\n",
        "    'train_loader': torch.utils.data.DataLoader(train_subset, batch_size=32, shuffle=True),\n",
        "    'val_loader': torch.utils.data.DataLoader(val_subset, batch_size=32, shuffle=False),\n",
        "    'test_loader': torch.utils.data.DataLoader(mnist_test, batch_size=32, shuffle=False)\n",
        "}\n",
        "\n",
        "# Check and print dimensions\n",
        "check_loader_dimensions(loaders)\n"
      ],
      "metadata": {
        "colab": {
          "base_uri": "https://localhost:8080/"
        },
        "id": "bnlreVR3xjpk",
        "outputId": "395ebdb8-64d4-464a-bfa8-9413f8e7e347"
      },
      "execution_count": 5,
      "outputs": [
        {
          "output_type": "stream",
          "name": "stdout",
          "text": [
            "Loader: train_loader\n",
            "Number of samples: 50000\n",
            "Image batch shape: torch.Size([32, 1, 28, 28])\n",
            "Label batch shape: torch.Size([32])\n",
            "------------------------\n",
            "Loader: val_loader\n",
            "Number of samples: 10000\n",
            "Image batch shape: torch.Size([32, 1, 28, 28])\n",
            "Label batch shape: torch.Size([32])\n",
            "------------------------\n",
            "Loader: test_loader\n",
            "Number of samples: 10000\n",
            "Image batch shape: torch.Size([32, 1, 28, 28])\n",
            "Label batch shape: torch.Size([32])\n",
            "------------------------\n"
          ]
        }
      ]
    },
    {
      "cell_type": "code",
      "source": [
        "import torch\n",
        "import torchvision\n",
        "import matplotlib.pyplot as plt\n",
        "\n",
        "# Define preprocessing transformations\n",
        "transform = torchvision.transforms.Compose([\n",
        "    torchvision.transforms.ToTensor(),\n",
        "    torchvision.transforms.Normalize((0.5,), (0.5,))\n",
        "])\n",
        "\n",
        "# Download and prepare the MNIST dataset\n",
        "mnist_train_val = torchvision.datasets.MNIST(\n",
        "    root='datasets/mnist', train=True, transform=transform, download=True)\n",
        "mnist_test = torchvision.datasets.MNIST(\n",
        "    root='datasets/mnist', train=False, transform=transform, download=True)\n",
        "\n",
        "# Split the training dataset into training and validation sets\n",
        "train_size = 50000\n",
        "val_size = len(mnist_train_val) - train_size\n",
        "train_subset, val_subset = torch.utils.data.random_split(mnist_train_val, [train_size, val_size])\n",
        "\n",
        "# Visualize examples\n",
        "def visualize_examples(dataset, num_images=4):\n",
        "    plt.figure(figsize=(8, 8))\n",
        "    for i in range(num_images):\n",
        "        image, label = dataset[i]\n",
        "        image = image.squeeze().numpy()\n",
        "\n",
        "        plt.subplot(2, 2, i + 1)\n",
        "        plt.title(f'Label: {label}')\n",
        "        plt.imshow(image, cmap='gray')\n",
        "        plt.axis('off')\n",
        "\n",
        "    plt.suptitle(\"Image examples of the MNIST dataset\")\n",
        "    plt.show()\n",
        "\n",
        "# Visualize examples from the validation set\n",
        "visualize_examples(val_subset)\n"
      ],
      "metadata": {
        "colab": {
          "base_uri": "https://localhost:8080/",
          "height": 732
        },
        "id": "xcNOz4uxx9zg",
        "outputId": "1f41fbdc-118f-4af8-adbd-1a7c7f299496"
      },
      "execution_count": 6,
      "outputs": [
        {
          "output_type": "display_data",
          "data": {
            "text/plain": [
              "<Figure size 800x800 with 4 Axes>"
            ],
            "image/png": "[encoded data removed]"
          },
          "metadata": {}
        }
      ]
    },
    {
      "cell_type": "code",
      "source": [
        "# Define model hyperparameters and configurations using a dictionary\n",
        "model_config = {\n",
        "    'image_size': 28,\n",
        "    'embed_dim': 256,\n",
        "    'hidden_dim': 256 * 3,\n",
        "    'num_heads': 8,\n",
        "    'num_layers': 6,\n",
        "    'patch_size': 7,\n",
        "    'num_patches': 16,\n",
        "    'num_channels': 1,\n",
        "    'num_classes': 10,\n",
        "    'dropout': 0.2\n",
        "}\n",
        "\n",
        "# Accessing the parameters from the dictionary\n",
        "image_size = model_config['image_size']\n",
        "embed_dim = model_config['embed_dim']\n",
        "hidden_dim = model_config['hidden_dim']\n",
        "num_heads = model_config['num_heads']\n",
        "num_layers = model_config['num_layers']\n",
        "patch_size = model_config['patch_size']\n",
        "num_patches = model_config['num_patches']\n",
        "num_channels = model_config['num_channels']\n",
        "num_classes = model_config['num_classes']\n",
        "dropout = model_config['dropout']\n",
        "\n",
        "# Print the configurations to verify\n",
        "for key, value in model_config.items():\n",
        "    print(f'{key}: {value}')\n"
      ],
      "metadata": {
        "colab": {
          "base_uri": "https://localhost:8080/"
        },
        "id": "Tc-HsSTFyh64",
        "outputId": "2f6026ea-91be-4b09-abf5-24386c006a30"
      },
      "execution_count": 7,
      "outputs": [
        {
          "output_type": "stream",
          "name": "stdout",
          "text": [
            "image_size: 28\n",
            "embed_dim: 256\n",
            "hidden_dim: 768\n",
            "num_heads: 8\n",
            "num_layers: 6\n",
            "patch_size: 7\n",
            "num_patches: 16\n",
            "num_channels: 1\n",
            "num_classes: 10\n",
            "dropout: 0.2\n"
          ]
        }
      ]
    },
    {
      "cell_type": "code",
      "source": [
        "def image_to_patches(images, patch_size, flatten_channels=True):\n",
        "\n",
        "    # Get the shape of the input images\n",
        "    batch_size, num_channels, height, width = images.shape  # MNIST: [B, 1, 28, 28]\n",
        "\n",
        "    # Calculate the number of patches along height and width\n",
        "    num_patches_height = height // patch_size\n",
        "    num_patches_width = width // patch_size\n",
        "\n",
        "    # Reshape to separate patches\n",
        "    reshaped_images = images.reshape(batch_size, num_channels, num_patches_height, patch_size, num_patches_width, patch_size)  # [B, C, H//p, p, W//p, p]\n",
        "\n",
        "    # Permute dimensions to bring patches to the front\n",
        "    permuted_images = reshaped_images.permute(0, 2, 4, 1, 3, 5)  # [B, H//p, W//p, C, p, p]\n",
        "\n",
        "    # Flatten the height and width dimensions to get patches\n",
        "    patches = permuted_images.flatten(1, 2)  # [B, (H//p)*(W//p), C, p, p]\n",
        "\n",
        "    if flatten_channels:\n",
        "        # Flatten the channel and patch dimensions to get a vector representation of patches\n",
        "        patches = patches.flatten(2, 4)  # [B, (H//p)*(W//p), C*p*p]\n",
        "\n",
        "    return patches\n",
        "\n",
        "\n",
        "x = torch.randn(32, 1, 28, 28)\n",
        "patches = image_to_patches(x, patch_size=7, flatten_channels=True)\n",
        "print(patches.shape)\n"
      ],
      "metadata": {
        "colab": {
          "base_uri": "https://localhost:8080/"
        },
        "id": "8K7NLmPTyybQ",
        "outputId": "b7883bd6-04ae-4db7-833a-dd1aa32413cc"
      },
      "execution_count": 8,
      "outputs": [
        {
          "output_type": "stream",
          "name": "stdout",
          "text": [
            "torch.Size([32, 16, 49])\n"
          ]
        }
      ]
    },
    {
      "cell_type": "code",
      "source": [
        "import torch\n",
        "import torchvision\n",
        "import matplotlib.pyplot as plt\n",
        "\n",
        "# Define preprocessing transformations\n",
        "transform = torchvision.transforms.Compose([\n",
        "    torchvision.transforms.ToTensor(),\n",
        "    torchvision.transforms.Normalize((0.5,), (0.5,))\n",
        "])\n",
        "\n",
        "# Download and prepare the MNIST dataset\n",
        "mnist_train_val = torchvision.datasets.MNIST(\n",
        "    root='datasets/mnist', train=True, transform=transform, download=True)\n",
        "mnist_test = torchvision.datasets.MNIST(\n",
        "    root='datasets/mnist', train=False, transform=transform, download=True)\n",
        "\n",
        "# Split the training dataset into training and validation sets\n",
        "train_size = 50000\n",
        "val_size = len(mnist_train_val) - train_size\n",
        "train_subset, val_subset = torch.utils.data.random_split(mnist_train_val, [train_size, val_size])\n",
        "\n",
        "# Function to convert images to patches\n",
        "def image_to_patches(images, patch_size, flatten_channels=True):\n",
        "\n",
        "    batch_size, num_channels, height, width = images.shape  # MNIST: [B, 1, 28, 28]\n",
        "\n",
        "    # Calculate the number of patches along height and width\n",
        "    num_patches_height = height // patch_size\n",
        "    num_patches_width = width // patch_size\n",
        "\n",
        "    # Reshape to separate patches\n",
        "    reshaped_images = images.reshape(batch_size, num_channels, num_patches_height, patch_size, num_patches_width, patch_size)  # [B, C, H//p, p, W//p, p]\n",
        "\n",
        "    # Permute dimensions to bring patches to the front\n",
        "    permuted_images = reshaped_images.permute(0, 2, 4, 1, 3, 5)  # [B, H//p, W//p, C, p, p]\n",
        "\n",
        "    # Flatten the height and width dimensions to get patches\n",
        "    patches = permuted_images.flatten(1, 2)  # [B, (H//p)*(W//p), C, p, p]\n",
        "\n",
        "    if flatten_channels:\n",
        "        # Flatten the channel and patch dimensions to get a vector representation of patches\n",
        "        patches = patches.flatten(2, 4)  # [B, (H//p)*(W//p), C*p*p]\n",
        "\n",
        "    return patches\n",
        "\n",
        "# Function to visualize image patches\n",
        "def visualize_image_patches(images, patch_size, num_examples=4):\n",
        "\n",
        "    # Get the image patches\n",
        "    img_patches = image_to_patches(images[:num_examples], patch_size, flatten_channels=False)\n",
        "\n",
        "    # Create the subplot\n",
        "    fig, axes = plt.subplots(num_examples, 1, figsize=(14, 12))\n",
        "    fig.suptitle(\"Images as input sequences of patches\")\n",
        "\n",
        "    for i in range(num_examples):\n",
        "        # Create a grid of patches\n",
        "        img_grid = torchvision.utils.make_grid(img_patches[i], nrow=int(images.shape[2] / patch_size), normalize=True, pad_value=0.9)\n",
        "        img_grid = img_grid.permute(1, 2, 0)  # Change shape for plotting\n",
        "\n",
        "        # Plot the grid of patches\n",
        "        axes[i].imshow(img_grid)\n",
        "        axes[i].axis(\"off\")\n",
        "\n",
        "    plt.show()\n",
        "    plt.close()\n",
        "\n",
        "# Visualize some examples from the validation set\n",
        "visualize_image_patches(torch.stack([val_subset[idx][0] for idx in range(4)], dim=0), patch_size=7)\n"
      ],
      "metadata": {
        "colab": {
          "base_uri": "https://localhost:8080/",
          "height": 1000
        },
        "id": "B1XPspmjy3V_",
        "outputId": "e2d5af17-5daa-486c-b583-912bca662e83"
      },
      "execution_count": 9,
      "outputs": [
        {
          "output_type": "display_data",
          "data": {
            "text/plain": [
              "<Figure size 1400x1200 with 4 Axes>"
            ],
            "image/png": "[encoded data removed]"
          },
          "metadata": {}
        }
      ]
    },
    {
      "cell_type": "code",
      "source": [
        "import torch\n",
        "import torchvision\n",
        "import matplotlib.pyplot as plt\n",
        "\n",
        "# Define preprocessing transformations\n",
        "transform = torchvision.transforms.Compose([\n",
        "    torchvision.transforms.ToTensor(),\n",
        "    torchvision.transforms.Normalize((0.5,), (0.5,))\n",
        "])\n",
        "\n",
        "# Download and prepare the MNIST dataset\n",
        "mnist_train_val = torchvision.datasets.MNIST(\n",
        "    root='datasets/mnist', train=True, transform=transform, download=True)\n",
        "mnist_test = torchvision.datasets.MNIST(\n",
        "    root='datasets/mnist', train=False, transform=transform, download=True)\n",
        "\n",
        "# Split the training dataset into training and validation sets\n",
        "train_size = 50000\n",
        "val_size = len(mnist_train_val) - train_size\n",
        "train_subset, val_subset = torch.utils.data.random_split(mnist_train_val, [train_size, val_size])\n",
        "\n",
        "class ImagePatcher:\n",
        "    def __init__(self, patch_size):\n",
        "        self.patch_size = patch_size\n",
        "\n",
        "    def to_patches(self, images, flatten_channels=True):\n",
        "\n",
        "        batch_size, num_channels, height, width = images.shape  # MNIST: [B, 1, 28, 28]\n",
        "\n",
        "        # Calculate the number of patches along height and width\n",
        "        num_patches_height = height // self.patch_size\n",
        "        num_patches_width = width // self.patch_size\n",
        "\n",
        "        # Reshape to separate patches\n",
        "        reshaped_images = images.reshape(batch_size, num_channels, num_patches_height, self.patch_size, num_patches_width, self.patch_size)  # [B, C, H//p, p, W//p, p]\n",
        "\n",
        "        # Permute dimensions to bring patches to the front\n",
        "        permuted_images = reshaped_images.permute(0, 2, 4, 1, 3, 5)  # [B, H//p, W//p, C, p, p]\n",
        "\n",
        "        # Flatten the height and width dimensions to get patches\n",
        "        patches = permuted_images.flatten(1, 2)  # [B, (H//p)*(W//p), C, p, p]\n",
        "\n",
        "        if flatten_channels:\n",
        "            # Flatten the channel and patch dimensions to get a vector representation of patches\n",
        "            patches = patches.flatten(2, 4)  # [B, (H//p)*(W//p), C*p*p]\n",
        "\n",
        "        return patches\n",
        "\n",
        "\n",
        "class PatchVisualizer:\n",
        "    def __init__(self, patch_size):\n",
        "        self.patcher = ImagePatcher(patch_size)\n",
        "\n",
        "    def visualize(self, images, num_examples=4):\n",
        "\n",
        "        # Get the image patches\n",
        "        img_patches = self.patcher.to_patches(images[:num_examples], flatten_channels=False)\n",
        "\n",
        "        # Create the subplot\n",
        "        fig, axes = plt.subplots(num_examples, 1, figsize=(14, 12))\n",
        "        fig.suptitle(\"Images as input sequences of patches\")\n",
        "\n",
        "        for i in range(num_examples):\n",
        "            # Create a grid of patches\n",
        "            img_grid = torchvision.utils.make_grid(img_patches[i], nrow=int(images.shape[2] / self.patcher.patch_size), normalize=True, pad_value=0.9)\n",
        "            img_grid = img_grid.permute(1, 2, 0)  # Change shape for plotting\n",
        "\n",
        "            # Plot the grid of patches\n",
        "            axes[i].imshow(img_grid)\n",
        "            axes[i].axis(\"off\")\n",
        "\n",
        "        plt.show()\n",
        "        plt.close()\n",
        "\n",
        "# Instantiate the visualizer and visualize some examples from the validation set\n",
        "visualizer = PatchVisualizer(patch_size=7)\n",
        "visualizer.visualize(torch.stack([val_subset[idx][0] for idx in range(4)], dim=0))\n"
      ],
      "metadata": {
        "colab": {
          "base_uri": "https://localhost:8080/",
          "height": 1000
        },
        "id": "tn4aTzDqzUhK",
        "outputId": "7472ac90-d388-4066-96c8-1180d553ca56"
      },
      "execution_count": 10,
      "outputs": [
        {
          "output_type": "display_data",
          "data": {
            "text/plain": [
              "<Figure size 1400x1200 with 4 Axes>"
            ],
            "image/png": "[encoded data removed]"
          },
          "metadata": {}
        }
      ]
    },
    {
      "cell_type": "code",
      "source": [
        "import torch\n",
        "import torch.nn as nn\n",
        "import torch.nn.functional as F\n",
        "\n",
        "class AttentionBlock(nn.Module):\n",
        "    def __init__(self, embed_dim, num_heads, hidden_dim=None, dropout=0.0):\n",
        "        super().__init__()\n",
        "\n",
        "        self.num_heads = num_heads\n",
        "        self.head_dim = embed_dim // num_heads\n",
        "        self.scale = self.head_dim ** -0.5\n",
        "\n",
        "        # Linear transformations for queries, keys, and values\n",
        "        self.query = nn.Linear(embed_dim, embed_dim)\n",
        "        self.key = nn.Linear(embed_dim, embed_dim)\n",
        "        self.value = nn.Linear(embed_dim, embed_dim)\n",
        "\n",
        "        # Feed-forward network\n",
        "        self.linear = nn.Sequential(\n",
        "            nn.Linear(embed_dim, hidden_dim if hidden_dim else embed_dim),\n",
        "            nn.GELU(),\n",
        "            nn.Dropout(dropout),\n",
        "            nn.Linear(hidden_dim if hidden_dim else embed_dim, embed_dim),\n",
        "            nn.Dropout(dropout)\n",
        "        )\n",
        "\n",
        "        self.layer_norm = nn.LayerNorm(embed_dim)\n",
        "\n",
        "    def forward(self, x):\n",
        "        B, N, C = x.size()  # Batch size, sequence length, embed dim\n",
        "\n",
        "        # Linear transformations\n",
        "        queries = self.query(x)\n",
        "        keys = self.key(x)\n",
        "        values = self.value(x)\n",
        "\n",
        "        # Split into multiple heads\n",
        "        queries = queries.view(B, N, self.num_heads, self.head_dim).transpose(1, 2)  # B x num_heads x N x head_dim\n",
        "        keys = keys.view(B, N, self.num_heads, self.head_dim).transpose(1, 2)  # B x num_heads x N x head_dim\n",
        "        values = values.view(B, N, self.num_heads, self.head_dim).transpose(1, 2)  # B x num_heads x N x head_dim\n",
        "\n",
        "        # Scaled dot-product attention\n",
        "        attention_scores = torch.matmul(queries, keys.transpose(-2, -1)) * self.scale  # B x num_heads x N x N\n",
        "        attention_weights = F.softmax(attention_scores, dim=-1)\n",
        "        attention_output = torch.matmul(attention_weights, values)  # B x num_heads x N x head_dim\n",
        "\n",
        "        # Combine heads and reshape\n",
        "        attention_output = attention_output.transpose(1, 2).contiguous().view(B, N, C)  # B x N x C\n",
        "\n",
        "        # Add and norm\n",
        "        x = x + attention_output\n",
        "        x = self.layer_norm(x)\n",
        "\n",
        "        # Feed-forward network\n",
        "        x = x + self.linear(x)\n",
        "        return x\n"
      ],
      "metadata": {
        "id": "zYEOQP3Lz1UO"
      },
      "execution_count": 11,
      "outputs": []
    },
    {
      "cell_type": "code",
      "source": [
        "import torch\n",
        "import torch.nn as nn\n",
        "import torch.nn.functional as F\n",
        "\n",
        "class PatchEmbedding(nn.Module):\n",
        "    def __init__(self, image_size, patch_size, num_channels, embed_dim):\n",
        "        super().__init__()\n",
        "        self.image_size = image_size\n",
        "        self.patch_size = patch_size\n",
        "        self.num_patches = (image_size // patch_size) ** 2\n",
        "        self.proj = nn.Conv2d(num_channels, embed_dim, kernel_size=patch_size, stride=patch_size)\n",
        "\n",
        "    def forward(self, x):\n",
        "        x = self.proj(x)  # (B, C, H, W) -> (B, embed_dim, H_out, W_out)\n",
        "        B, C, H, W = x.shape\n",
        "        x = x.flatten(2).transpose(1, 2)  # (B, embed_dim, H_out * W_out)\n",
        "        return x\n",
        "\n",
        "class Attention(nn.Module):\n",
        "    def __init__(self, embed_dim, num_heads, dropout=0.0):\n",
        "        super().__init__()\n",
        "        self.num_heads = num_heads\n",
        "        self.head_dim = embed_dim // num_heads\n",
        "        self.scale = self.head_dim ** -0.5\n",
        "\n",
        "        self.query = nn.Linear(embed_dim, embed_dim)\n",
        "        self.key = nn.Linear(embed_dim, embed_dim)\n",
        "        self.value = nn.Linear(embed_dim, embed_dim)\n",
        "\n",
        "        self.dropout = nn.Dropout(dropout)\n",
        "        self.out = nn.Linear(embed_dim, embed_dim)\n",
        "\n",
        "    def forward(self, x):\n",
        "        B, N, C = x.size()\n",
        "        queries = self.query(x)\n",
        "        keys = self.key(x)\n",
        "        values = self.value(x)\n",
        "\n",
        "        queries = queries.view(B, N, self.num_heads, self.head_dim).transpose(1, 2)\n",
        "        keys = keys.view(B, N, self.num_heads, self.head_dim).transpose(1, 2)\n",
        "        values = values.view(B, N, self.num_heads, self.head_dim).transpose(1, 2)\n",
        "\n",
        "        attention_scores = torch.matmul(queries, keys.transpose(-2, -1)) * self.scale\n",
        "        attention_weights = F.softmax(attention_scores, dim=-1)\n",
        "        attention_output = torch.matmul(self.dropout(attention_weights), values)\n",
        "        attention_output = attention_output.transpose(1, 2).contiguous().view(B, N, C)\n",
        "\n",
        "        return self.out(attention_output)\n",
        "\n",
        "class MLP(nn.Module):\n",
        "    def __init__(self, embed_dim, hidden_dim, dropout=0.0):\n",
        "        super().__init__()\n",
        "        self.fc1 = nn.Linear(embed_dim, hidden_dim)\n",
        "        self.act = nn.GELU()\n",
        "        self.dropout = nn.Dropout(dropout)\n",
        "        self.fc2 = nn.Linear(hidden_dim, embed_dim)\n",
        "\n",
        "    def forward(self, x):\n",
        "        x = self.fc1(x)\n",
        "        x = self.act(x)\n",
        "        x = self.dropout(x)\n",
        "        x = self.fc2(x)\n",
        "        return x\n",
        "\n",
        "class VisionTransformer(nn.Module):\n",
        "    def __init__(\n",
        "        self,\n",
        "        image_size,\n",
        "        patch_size,\n",
        "        num_channels,\n",
        "        embed_dim,\n",
        "        num_heads,\n",
        "        num_layers,\n",
        "        num_classes,\n",
        "        dropout=0.0\n",
        "    ):\n",
        "        super().__init__()\n",
        "\n",
        "        self.patch_embed = PatchEmbedding(image_size, patch_size, num_channels, embed_dim)\n",
        "        self.pos_embedding = nn.Parameter(torch.randn(1, self.patch_embed.num_patches + 1, embed_dim))\n",
        "        self.cls_token = nn.Parameter(torch.randn(1, 1, embed_dim))\n",
        "\n",
        "        self.transformer = nn.ModuleList([\n",
        "            Attention(embed_dim, num_heads, dropout=dropout) for _ in range(num_layers)\n",
        "        ])\n",
        "\n",
        "        self.mlp_head = nn.Sequential(\n",
        "            nn.LayerNorm(embed_dim),\n",
        "            MLP(embed_dim, embed_dim * 4, dropout=dropout),\n",
        "            nn.LayerNorm(embed_dim),\n",
        "            nn.Linear(embed_dim, num_classes)\n",
        "        )\n",
        "\n",
        "        self.dropout = nn.Dropout(dropout)\n",
        "\n",
        "    def forward(self, x):\n",
        "        B = x.size(0)\n",
        "        x = self.patch_embed(x)\n",
        "        cls_tokens = self.cls_token.expand(B, -1, -1)\n",
        "        x = torch.cat([cls_tokens, x], dim=1)\n",
        "        x = x + self.pos_embedding\n",
        "\n",
        "        for layer in self.transformer:\n",
        "            x = layer(x)\n",
        "\n",
        "        x = x.mean(dim=1)\n",
        "        x = self.mlp_head(x)\n",
        "\n",
        "        return x\n"
      ],
      "metadata": {
        "id": "s0SFSpDL2o4R"
      },
      "execution_count": 12,
      "outputs": []
    },
    {
      "cell_type": "code",
      "source": [
        "import torch\n",
        "import torch.nn as nn\n",
        "import os\n",
        "\n",
        "class VisionTransformer(nn.Module):\n",
        "    def __init__(\n",
        "        self,\n",
        "        embed_dim,\n",
        "        hidden_dim,\n",
        "        num_heads,\n",
        "        num_layers,\n",
        "        patch_size,\n",
        "        num_channels,\n",
        "        num_patches,\n",
        "        num_classes,\n",
        "        dropout=0.0\n",
        "    ):\n",
        "        super().__init__()\n",
        "\n",
        "        self.patch_embed = PatchEmbedding(patch_size, num_channels, embed_dim, image_size=224)\n",
        "        self.pos_embedding = nn.Parameter(torch.randn(1, num_patches + 1, embed_dim))\n",
        "        self.cls_token = nn.Parameter(torch.randn(1, 1, embed_dim))\n",
        "\n",
        "        self.transformer = nn.ModuleList([\n",
        "            TransformerBlock(embed_dim, num_heads, hidden_dim, dropout) for _ in range(num_layers)\n",
        "        ])\n",
        "\n",
        "        self.mlp_head = nn.Sequential(\n",
        "            nn.LayerNorm(embed_dim),\n",
        "            nn.Linear(embed_dim, num_classes)\n",
        "        )\n",
        "\n",
        "        self.dropout = nn.Dropout(dropout)\n",
        "\n",
        "    def forward(self, x):\n",
        "        B = x.size(0)\n",
        "        x = self.patch_embed(x)\n",
        "        cls_tokens = self.cls_token.expand(B, -1, -1)\n",
        "        x = torch.cat([cls_tokens, x], dim=1)\n",
        "        x = x + self.pos_embedding\n",
        "\n",
        "        for block in self.transformer:\n",
        "            x = block(x)\n",
        "\n",
        "        x = x.mean(dim=1)\n",
        "        x = self.mlp_head(x)\n",
        "\n",
        "        return x\n",
        "\n",
        "class PatchEmbedding(nn.Module):\n",
        "    def __init__(self, patch_size, num_channels, embed_dim, image_size=224):\n",
        "        super().__init__()\n",
        "        self.proj = nn.Conv2d(num_channels, embed_dim, kernel_size=patch_size, stride=patch_size)\n",
        "        self.image_size = image_size\n",
        "        self.num_patches = (image_size // patch_size) ** 2\n",
        "\n",
        "    def forward(self, x):\n",
        "        x = self.proj(x)\n",
        "        B, C, H, W = x.shape\n",
        "        x = x.flatten(2).transpose(1, 2)\n",
        "        return x\n",
        "\n",
        "class TransformerBlock(nn.Module):\n",
        "    def __init__(self, embed_dim, num_heads, hidden_dim, dropout=0.0):\n",
        "        super().__init__()\n",
        "        self.attention = Attention(embed_dim, num_heads, dropout)\n",
        "        self.mlp = MLP(embed_dim, hidden_dim, dropout)\n",
        "\n",
        "    def forward(self, x):\n",
        "        x = x + self.attention(x)\n",
        "        x = x + self.mlp(x)\n",
        "        return x\n",
        "\n",
        "class Attention(nn.Module):\n",
        "    def __init__(self, embed_dim, num_heads, dropout=0.0):\n",
        "        super().__init__()\n",
        "        self.num_heads = num_heads\n",
        "        self.head_dim = embed_dim // num_heads\n",
        "        self.scale = self.head_dim ** -0.5\n",
        "\n",
        "        self.query = nn.Linear(embed_dim, embed_dim)\n",
        "        self.key = nn.Linear(embed_dim, embed_dim)\n",
        "        self.value = nn.Linear(embed_dim, embed_dim)\n",
        "\n",
        "        self.dropout = nn.Dropout(dropout)\n",
        "        self.out = nn.Linear(embed_dim, embed_dim)\n",
        "\n",
        "    def forward(self, x):\n",
        "        B, N, C = x.size()\n",
        "        queries = self.query(x)\n",
        "        keys = self.key(x)\n",
        "        values = self.value(x)\n",
        "\n",
        "        queries = queries.view(B, N, self.num_heads, self.head_dim).transpose(1, 2)\n",
        "        keys = keys.view(B, N, self.num_heads, self.head_dim).transpose(1, 2)\n",
        "        values = values.view(B, N, self.num_heads, self.head_dim).transpose(1, 2)\n",
        "\n",
        "        attention_scores = torch.matmul(queries, keys.transpose(-2, -1)) * self.scale\n",
        "        attention_weights = torch.softmax(attention_scores, dim=-1)\n",
        "        attention_output = torch.matmul(self.dropout(attention_weights), values)\n",
        "        attention_output = attention_output.transpose(1, 2).contiguous().view(B, N, C)\n",
        "\n",
        "        return self.out(attention_output)\n",
        "\n",
        "class MLP(nn.Module):\n",
        "    def __init__(self, embed_dim, hidden_dim, dropout=0.0):\n",
        "        super().__init__()\n",
        "        self.fc1 = nn.Linear(embed_dim, hidden_dim)\n",
        "        self.act = nn.GELU()\n",
        "        self.fc2 = nn.Linear(hidden_dim, embed_dim)\n",
        "        self.dropout = nn.Dropout(dropout)\n",
        "\n",
        "    def forward(self, x):\n",
        "        x = self.fc1(x)\n",
        "        x = self.act(x)\n",
        "        x = self.dropout(x)\n",
        "        x = self.fc2(x)\n",
        "        return x\n",
        "\n",
        "# Usage\n",
        "embed_dim = 256\n",
        "hidden_dim = 512\n",
        "num_heads = 8\n",
        "num_layers = 6\n",
        "patch_size = 16\n",
        "num_channels = 3\n",
        "num_patches = (224 // patch_size) ** 2\n",
        "num_classes = 10\n",
        "dropout = 0.1\n",
        "\n",
        "# Instantiate the model\n",
        "model = VisionTransformer(\n",
        "    embed_dim=embed_dim,\n",
        "    hidden_dim=hidden_dim,\n",
        "    num_heads=num_heads,\n",
        "    num_layers=num_layers,\n",
        "    patch_size=patch_size,\n",
        "    num_channels=num_channels,\n",
        "    num_patches=num_patches,\n",
        "    num_classes=num_classes,\n",
        "    dropout=dropout\n",
        ")\n",
        "\n",
        "# Transfer to GPU if available\n",
        "device = torch.device('cuda' if torch.cuda.is_available() else 'cpu')\n",
        "model.to(device)\n",
        "\n",
        "# Model restoration logic\n",
        "model_restore = '/path/to/your/model.pth'\n",
        "if model_restore and os.path.isfile(model_restore):\n",
        "    model.load_state_dict(torch.load(model_restore, map_location=device))\n",
        "    model.restored = True\n",
        "    print(\"Model restored from\", model_restore)\n",
        "else:\n",
        "    print(\"No checkpoint found at\", model_restore)\n",
        "\n",
        "# Example usage\n",
        "input_data = torch.randn(1, 3, 224, 224).to(device)\n",
        "output = model(input_data)\n",
        "print(output)\n"
      ],
      "metadata": {
        "colab": {
          "base_uri": "https://localhost:8080/"
        },
        "id": "shBlYj8W3Fdo",
        "outputId": "978487bf-826f-4452-b4b0-f0e1f90bcfac"
      },
      "execution_count": 13,
      "outputs": [
        {
          "output_type": "stream",
          "name": "stdout",
          "text": [
            "No checkpoint found at /path/to/your/model.pth\n",
            "tensor([[ 0.6042, -0.3989, -0.6561, -0.0827,  0.8026, -0.0070, -1.0003,  0.4979,\n",
            "          0.9631, -0.0143]], grad_fn=<AddmmBackward0>)\n"
          ]
        }
      ]
    },
    {
      "cell_type": "code",
      "source": [
        "model"
      ],
      "metadata": {
        "colab": {
          "base_uri": "https://localhost:8080/"
        },
        "id": "XCvPpAG33i2P",
        "outputId": "8289cdc8-0aa9-4a73-e435-a222e4a90992"
      },
      "execution_count": 14,
      "outputs": [
        {
          "output_type": "execute_result",
          "data": {
            "text/plain": [
              "VisionTransformer(\n",
              "  (patch_embed): PatchEmbedding(\n",
              "    (proj): Conv2d(3, 256, kernel_size=(16, 16), stride=(16, 16))\n",
              "  )\n",
              "  (transformer): ModuleList(\n",
              "    (0-5): 6 x TransformerBlock(\n",
              "      (attention): Attention(\n",
              "        (query): Linear(in_features=256, out_features=256, bias=True)\n",
              "        (key): Linear(in_features=256, out_features=256, bias=True)\n",
              "        (value): Linear(in_features=256, out_features=256, bias=True)\n",
              "        (dropout): Dropout(p=0.1, inplace=False)\n",
              "        (out): Linear(in_features=256, out_features=256, bias=True)\n",
              "      )\n",
              "      (mlp): MLP(\n",
              "        (fc1): Linear(in_features=256, out_features=512, bias=True)\n",
              "        (act): GELU(approximate='none')\n",
              "        (fc2): Linear(in_features=512, out_features=256, bias=True)\n",
              "        (dropout): Dropout(p=0.1, inplace=False)\n",
              "      )\n",
              "    )\n",
              "  )\n",
              "  (mlp_head): Sequential(\n",
              "    (0): LayerNorm((256,), eps=1e-05, elementwise_affine=True)\n",
              "    (1): Linear(in_features=256, out_features=10, bias=True)\n",
              "  )\n",
              "  (dropout): Dropout(p=0.1, inplace=False)\n",
              ")"
            ]
          },
          "metadata": {},
          "execution_count": 14
        }
      ]
    },
    {
      "cell_type": "code",
      "source": [
        "import torch\n",
        "from torchvision import datasets, transforms\n",
        "import torch.utils.data as data\n",
        "from tqdm import tqdm\n",
        "\n",
        "# Assuming VisionTransformer and other components are already defined\n",
        "# Define VisionTransformer and other necessary components (already provided earlier)\n",
        "\n",
        "# Function to evaluate model accuracy on test set\n",
        "def evaluate_model_accuracy(model, test_loader, device):\n",
        "    model.eval()\n",
        "    correct_predictions = 0\n",
        "\n",
        "    with torch.no_grad():\n",
        "        for imgs, labels in tqdm(test_loader, desc='Evaluating'):\n",
        "            imgs, labels = imgs.to(device), labels.to(device)\n",
        "            preds = model(imgs)\n",
        "            _, pred_cls = preds.max(1)\n",
        "            correct_predictions += pred_cls.eq(labels).sum().item()\n",
        "\n",
        "    accuracy = correct_predictions / len(test_loader.dataset)\n",
        "    return accuracy\n",
        "\n",
        "# Example usage\n",
        "if __name__ == \"__main__\":\n",
        "    # Define hyperparameters and other settings\n",
        "    embed_dim = 256\n",
        "    hidden_dim = 512\n",
        "    num_heads = 8\n",
        "    num_layers = 6\n",
        "    patch_size = 7  # Adjusted for MNIST (28x28 images with 4x4 patches)\n",
        "    num_channels = 1  # MNIST is grayscale\n",
        "    num_patches = (28 // patch_size) ** 2\n",
        "    num_classes = 10  # MNIST has 10 classes\n",
        "    dropout = 0.1\n",
        "    batch_size = 64\n",
        "\n",
        "    # Initialize model\n",
        "    device = torch.device('cuda' if torch.cuda.is_available() else 'cpu')\n",
        "    model = VisionTransformer(\n",
        "        embed_dim=embed_dim,\n",
        "        hidden_dim=hidden_dim,\n",
        "        num_heads=num_heads,\n",
        "        num_layers=num_layers,\n",
        "        patch_size=patch_size,\n",
        "        num_channels=num_channels,\n",
        "        num_patches=num_patches,\n",
        "        num_classes=num_classes,\n",
        "        dropout=dropout\n",
        "    ).to(device)\n",
        "\n",
        "    # Load pre-trained weights if available\n",
        "    # model.load_state_dict(torch.load('path_to_your_saved_model.pth'))\n",
        "\n",
        "    # Load test dataset\n",
        "    transform = transforms.Compose([\n",
        "        transforms.ToTensor(),\n",
        "        transforms.Normalize((0.5,), (0.5,))\n",
        "    ])\n",
        "    test_dataset = datasets.MNIST(root='./data', train=False, download=True, transform=transform)\n",
        "    test_loader = data.DataLoader(test_dataset, batch_size=batch_size, shuffle=False)\n",
        "\n",
        "    # Evaluate model accuracy on test set\n",
        "    test_accuracy = evaluate_model_accuracy(model, test_loader, device)\n",
        "    print(f'Accuracy on test set: {test_accuracy * 100:.2f}%')\n"
      ],
      "metadata": {
        "colab": {
          "base_uri": "https://localhost:8080/"
        },
        "id": "0W4ICYMLZre3",
        "outputId": "45f1dc60-8941-4329-e499-fbeead79ea96"
      },
      "execution_count": 15,
      "outputs": [
        {
          "output_type": "stream",
          "name": "stdout",
          "text": [
            "Downloading http://yann.lecun.com/exdb/mnist/train-images-idx3-ubyte.gz\n",
            "Failed to download (trying next):\n",
            "HTTP Error 403: Forbidden\n",
            "\n",
            "Downloading https://ossci-datasets.s3.amazonaws.com/mnist/train-images-idx3-ubyte.gz\n",
            "Downloading https://ossci-datasets.s3.amazonaws.com/mnist/train-images-idx3-ubyte.gz to ./data/MNIST/raw/train-images-idx3-ubyte.gz\n"
          ]
        },
        {
          "output_type": "stream",
          "name": "stderr",
          "text": [
            "100%|██████████| 9912422/9912422 [00:00<00:00, 120796067.31it/s]\n"
          ]
        },
        {
          "output_type": "stream",
          "name": "stdout",
          "text": [
            "Extracting ./data/MNIST/raw/train-images-idx3-ubyte.gz to ./data/MNIST/raw\n",
            "\n",
            "Downloading http://yann.lecun.com/exdb/mnist/train-labels-idx1-ubyte.gz\n",
            "Failed to download (trying next):\n",
            "HTTP Error 403: Forbidden\n",
            "\n",
            "Downloading https://ossci-datasets.s3.amazonaws.com/mnist/train-labels-idx1-ubyte.gz\n",
            "Downloading https://ossci-datasets.s3.amazonaws.com/mnist/train-labels-idx1-ubyte.gz to ./data/MNIST/raw/train-labels-idx1-ubyte.gz\n"
          ]
        },
        {
          "output_type": "stream",
          "name": "stderr",
          "text": [
            "100%|██████████| 28881/28881 [00:00<00:00, 54126762.21it/s]"
          ]
        },
        {
          "output_type": "stream",
          "name": "stdout",
          "text": [
            "Extracting ./data/MNIST/raw/train-labels-idx1-ubyte.gz to ./data/MNIST/raw\n",
            "\n",
            "Downloading http://yann.lecun.com/exdb/mnist/t10k-images-idx3-ubyte.gz\n",
            "Failed to download (trying next):\n",
            "HTTP Error 403: Forbidden\n",
            "\n",
            "Downloading https://ossci-datasets.s3.amazonaws.com/mnist/t10k-images-idx3-ubyte.gz\n",
            "Downloading https://ossci-datasets.s3.amazonaws.com/mnist/t10k-images-idx3-ubyte.gz to ./data/MNIST/raw/t10k-images-idx3-ubyte.gz\n"
          ]
        },
        {
          "output_type": "stream",
          "name": "stderr",
          "text": [
            "\n",
            "100%|██████████| 1648877/1648877 [00:00<00:00, 32079799.04it/s]\n"
          ]
        },
        {
          "output_type": "stream",
          "name": "stdout",
          "text": [
            "Extracting ./data/MNIST/raw/t10k-images-idx3-ubyte.gz to ./data/MNIST/raw\n",
            "\n",
            "Downloading http://yann.lecun.com/exdb/mnist/t10k-labels-idx1-ubyte.gz\n",
            "Failed to download (trying next):\n",
            "HTTP Error 403: Forbidden\n",
            "\n",
            "Downloading https://ossci-datasets.s3.amazonaws.com/mnist/t10k-labels-idx1-ubyte.gz\n",
            "Downloading https://ossci-datasets.s3.amazonaws.com/mnist/t10k-labels-idx1-ubyte.gz to ./data/MNIST/raw/t10k-labels-idx1-ubyte.gz\n"
          ]
        },
        {
          "output_type": "stream",
          "name": "stderr",
          "text": [
            "100%|██████████| 4542/4542 [00:00<00:00, 8581319.26it/s]\n"
          ]
        },
        {
          "output_type": "stream",
          "name": "stdout",
          "text": [
            "Extracting ./data/MNIST/raw/t10k-labels-idx1-ubyte.gz to ./data/MNIST/raw\n",
            "\n"
          ]
        },
        {
          "output_type": "stream",
          "name": "stderr",
          "text": [
            "Evaluating: 100%|██████████| 157/157 [00:33<00:00,  4.75it/s]"
          ]
        },
        {
          "output_type": "stream",
          "name": "stdout",
          "text": [
            "Accuracy on test set: 9.74%\n"
          ]
        },
        {
          "output_type": "stream",
          "name": "stderr",
          "text": [
            "\n"
          ]
        }
      ]
    },
    {
      "cell_type": "code",
      "source": [
        "import torch\n",
        "from torchvision import datasets, transforms\n",
        "import torch.utils.data as data\n",
        "from tqdm import tqdm\n",
        "\n",
        "# Load the MNIST test dataset\n",
        "transform = transforms.Compose([\n",
        "    transforms.ToTensor(),\n",
        "    transforms.Normalize((0.5,), (0.5,))\n",
        "])\n",
        "test_dataset = datasets.MNIST(root='./data', train=False, download=True, transform=transform)\n",
        "\n",
        "# Find the index of the 5th occurrence of label 8 in the test dataset\n",
        "label_to_find = 8\n",
        "count = 0\n",
        "target_index = None\n",
        "\n",
        "for i in range(len(test_dataset.targets)):\n",
        "    if test_dataset.targets[i] == label_to_find:\n",
        "        count += 1\n",
        "        if count == 5:  # Adjust this number to find the Nth occurrence\n",
        "            target_index = i\n",
        "            break\n",
        "\n",
        "if target_index is not None:\n",
        "    # Perform any operation using the found index\n",
        "    print(f\"Index of the 5th sample with label {label_to_find}: {target_index}\")\n",
        "    # Example: Access the image and label\n",
        "    image, label = test_dataset[target_index]\n",
        "    print(f\"Label: {label}\")\n",
        "    # Perform further operations with the image or label\n",
        "else:\n",
        "    print(f\"No sample found with label {label_to_find}\")\n",
        "\n",
        "# Example usage of evaluating model accuracy on test set\n",
        "def evaluate_model_accuracy(model, test_loader, device):\n",
        "    model.eval()\n",
        "    correct_predictions = 0\n",
        "\n",
        "    with torch.no_grad():\n",
        "        for imgs, labels in tqdm(test_loader, desc='Evaluating'):\n",
        "            imgs, labels = imgs.to(device), labels.to(device)\n",
        "            preds = model(imgs)\n",
        "            _, pred_cls = preds.max(1)\n",
        "            correct_predictions += pred_cls.eq(labels).sum().item()\n",
        "\n",
        "    accuracy = correct_predictions / len(test_loader.dataset)\n",
        "    return accuracy\n",
        "\n",
        "# Example usage\n",
        "if __name__ == \"__main__\":\n",
        "    # Assuming VisionTransformer and other components are defined earlier\n",
        "    # Initialize hyperparameters, model, device, etc.\n",
        "\n",
        "    # Load pre-trained weights if available\n",
        "    # model.load_state_dict(torch.load('path_to_your_saved_model.pth'))\n",
        "\n",
        "    # Load test dataset (already loaded as test_dataset above)\n",
        "\n",
        "    # Example of evaluating model accuracy on the entire test set\n",
        "    batch_size = 64\n",
        "    test_loader = data.DataLoader(test_dataset, batch_size=batch_size, shuffle=False)\n",
        "\n",
        "    # Evaluate model accuracy on test set\n",
        "    test_accuracy = evaluate_model_accuracy(model, test_loader, device)\n",
        "    print(f'Accuracy on test set: {test_accuracy * 100:.2f}%')\n"
      ],
      "metadata": {
        "colab": {
          "base_uri": "https://localhost:8080/"
        },
        "id": "IGj88E-qbegg",
        "outputId": "5edafc79-d91d-4399-f578-022bd341a1d6"
      },
      "execution_count": 16,
      "outputs": [
        {
          "output_type": "stream",
          "name": "stdout",
          "text": [
            "Index of the 5th sample with label 8: 134\n",
            "Label: 8\n"
          ]
        },
        {
          "output_type": "stream",
          "name": "stderr",
          "text": [
            "Evaluating: 100%|██████████| 157/157 [00:25<00:00,  6.09it/s]"
          ]
        },
        {
          "output_type": "stream",
          "name": "stdout",
          "text": [
            "Accuracy on test set: 9.74%\n"
          ]
        },
        {
          "output_type": "stream",
          "name": "stderr",
          "text": [
            "\n"
          ]
        }
      ]
    },
    {
      "cell_type": "code",
      "source": [
        "import torch\n",
        "import torch.nn as nn\n",
        "from torchvision import datasets, transforms\n",
        "import torch.nn.functional as F\n",
        "\n",
        "# Define VisionTransformer class\n",
        "class VisionTransformer(nn.Module):\n",
        "    def __init__(self, embed_dim, hidden_dim, num_heads, num_layers, patch_size, num_channels, num_patches, num_classes):\n",
        "        super(VisionTransformer, self).__init__()\n",
        "        self.patch_size = patch_size\n",
        "        self.input_layer = nn.Conv2d(num_channels, embed_dim, kernel_size=patch_size, stride=patch_size)\n",
        "        self.cls_token = nn.Parameter(torch.randn(1, 1, embed_dim))\n",
        "        self.pos_embedding = nn.Parameter(torch.randn(1, num_patches + 1, embed_dim))\n",
        "        self.transformer = nn.ModuleList([\n",
        "            nn.TransformerEncoderLayer(d_model=embed_dim, nhead=num_heads) for _ in range(num_layers)\n",
        "        ])\n",
        "        self.fc = nn.Linear(embed_dim, num_classes)\n",
        "\n",
        "    def forward(self, x):\n",
        "        patches = self.input_layer(x)  # Shape: [batch_size, embed_dim, num_patches**0.5, num_patches**0.5]\n",
        "        patches = patches.flatten(2).transpose(1, 2)  # Shape: [batch_size, num_patches, embed_dim]\n",
        "        batch_size = patches.size(0)\n",
        "        cls_tokens = self.cls_token.expand(batch_size, -1, -1)  # Shape: [batch_size, 1, embed_dim]\n",
        "        x = torch.cat((cls_tokens, patches), dim=1)  # Shape: [batch_size, num_patches + 1, embed_dim]\n",
        "        x += self.pos_embedding[:, :(x.size(1)), :]  # Add position embedding\n",
        "\n",
        "        for layer in self.transformer:\n",
        "            x = layer(x)\n",
        "\n",
        "        x = self.fc(x[:, 0])  # Take the cls_token output\n",
        "        return x\n",
        "\n",
        "# Example usage\n",
        "if __name__ == \"__main__\":\n",
        "    # Define hyperparameters and other settings\n",
        "    embed_dim = 256\n",
        "    hidden_dim = 256\n",
        "    num_heads = 8\n",
        "    num_layers = 6\n",
        "    patch_size = 7  # Adjust based on your model's patch size\n",
        "    num_channels = 1  # MNIST is grayscale\n",
        "    num_patches = (28 // patch_size) ** 2  # Assuming MNIST 28x28 images\n",
        "    num_classes = 10  # MNIST has 10 classes\n",
        "\n",
        "    # Initialize model\n",
        "    device = torch.device('cuda' if torch.cuda.is_available() else 'cpu')\n",
        "    model = VisionTransformer(\n",
        "        embed_dim=embed_dim,\n",
        "        hidden_dim=hidden_dim,\n",
        "        num_heads=num_heads,\n",
        "        num_layers=num_layers,\n",
        "        patch_size=patch_size,\n",
        "        num_channels=num_channels,\n",
        "        num_patches=num_patches,\n",
        "        num_classes=num_classes\n",
        "    ).to(device)\n",
        "\n",
        "    # Load test dataset\n",
        "    transform = transforms.Compose([\n",
        "        transforms.ToTensor(),\n",
        "        transforms.Normalize((0.5,), (0.5,))\n",
        "    ])\n",
        "    test_dataset = datasets.MNIST(root='./data', train=False, download=True, transform=transform)\n",
        "\n",
        "    # Select a specific test sample index where the label is 8\n",
        "    test_sample_index = (test_dataset.targets == 8).nonzero(as_tuple=True)[0][5].item()\n",
        "    img_tensor = test_dataset.data[test_sample_index].unsqueeze(0).unsqueeze(0).float()  # Shape: [1, 1, 28, 28]\n",
        "\n",
        "    # Move input tensor to device\n",
        "    img_tensor = img_tensor.to(device)\n",
        "\n",
        "    # Convert the test sample into patches using the input layer\n",
        "    patches = model.input_layer(img_tensor)  # Shape: [1, embed_dim, H, W]\n",
        "    patches = patches.view(1, embed_dim, -1).permute(0, 2, 1)  # Shape: [1, num_patches, embed_dim]\n",
        "\n",
        "    # Attach the class token and add the position embedding\n",
        "    cls_token = model.cls_token.expand(1, -1, -1)  # Shape: [1, 1, embed_dim]\n",
        "    pos_embedding = model.pos_embedding[:, :patches.size(1) + 1, :]  # Shape: [1, num_patches + 1, embed_dim]\n",
        "\n",
        "    # Concatenate class token and patches\n",
        "    transformer_input = torch.cat((cls_token, patches), dim=1) + pos_embedding\n",
        "\n",
        "    print(\"Input tensor to Transformer: \", transformer_input.shape)\n",
        "\n",
        "    # Forward pass through the transformer layers\n",
        "    for layer in model.transformer:\n",
        "        transformer_input = layer(transformer_input)\n",
        "\n",
        "    print(\"Output shape after transformer layers: \", transformer_input.shape)\n"
      ],
      "metadata": {
        "colab": {
          "base_uri": "https://localhost:8080/"
        },
        "id": "S_10Mm14deNj",
        "outputId": "9cf03d49-8310-4727-90f5-098f57b48a19"
      },
      "execution_count": 19,
      "outputs": [
        {
          "output_type": "stream",
          "name": "stdout",
          "text": [
            "Input tensor to Transformer:  torch.Size([1, 17, 256])\n",
            "Output shape after transformer layers:  torch.Size([1, 17, 256])\n"
          ]
        }
      ]
    },
    {
      "cell_type": "code",
      "source": [
        "import torch\n",
        "from torchvision import datasets, transforms\n",
        "import torch.nn as nn\n",
        "\n",
        "# Define VisionTransformer class\n",
        "class VisionTransformer(nn.Module):\n",
        "    def __init__(self, embed_dim, hidden_dim, num_heads, num_layers, patch_size, num_channels, num_patches, num_classes):\n",
        "        super(VisionTransformer, self).__init__()\n",
        "        self.patch_size = patch_size\n",
        "        self.input_layer = nn.Conv2d(num_channels, embed_dim, kernel_size=patch_size, stride=patch_size)\n",
        "        self.cls_token = nn.Parameter(torch.randn(1, 1, embed_dim))\n",
        "        self.pos_embedding = nn.Parameter(torch.randn(1, num_patches + 1, embed_dim))\n",
        "        self.transformer = nn.ModuleList([\n",
        "            nn.TransformerEncoderLayer(d_model=embed_dim, nhead=num_heads) for _ in range(num_layers)\n",
        "        ])\n",
        "        self.fc = nn.Linear(embed_dim, num_classes)\n",
        "\n",
        "    def forward(self, x):\n",
        "        patches = self.input_layer(x)  # Shape: [batch_size, embed_dim, num_patches**0.5, num_patches**0.5]\n",
        "        patches = patches.flatten(2).transpose(1, 2)  # Shape: [batch_size, num_patches, embed_dim]\n",
        "        batch_size = patches.size(0)\n",
        "        cls_tokens = self.cls_token.expand(batch_size, -1, -1)  # Shape: [batch_size, 1, embed_dim]\n",
        "        x = torch.cat((cls_tokens, patches), dim=1)  # Shape: [batch_size, num_patches + 1, embed_dim]\n",
        "        x += self.pos_embedding[:, :(x.size(1)), :]  # Add position embedding\n",
        "\n",
        "        for layer in self.transformer:\n",
        "            x = layer(x)\n",
        "\n",
        "        x = self.fc(x[:, 0])  # Take the cls_token output\n",
        "        return x\n",
        "\n",
        "# Define hyperparameters and other settings\n",
        "embed_dim = 2304  # Adjusted to be divisible by 24 (3 * num_heads)\n",
        "hidden_dim = 2304\n",
        "num_heads = 8\n",
        "num_layers = 6\n",
        "patch_size = 7  # Adjust based on your model's patch size\n",
        "num_channels = 1  # MNIST is grayscale\n",
        "num_patches = (28 // patch_size) ** 2  # Assuming MNIST 28x28 images\n",
        "num_classes = 10  # MNIST has 10 classes\n",
        "\n",
        "# Initialize model\n",
        "device = torch.device('cuda' if torch.cuda.is_available() else 'cpu')\n",
        "model = VisionTransformer(\n",
        "    embed_dim=embed_dim,\n",
        "    hidden_dim=hidden_dim,\n",
        "    num_heads=num_heads,\n",
        "    num_layers=num_layers,\n",
        "    patch_size=patch_size,\n",
        "    num_channels=num_channels,\n",
        "    num_patches=num_patches,\n",
        "    num_classes=num_classes\n",
        ").to(device)\n",
        "\n",
        "# Load test dataset\n",
        "transform = transforms.Compose([\n",
        "    transforms.ToTensor(),\n",
        "    transforms.Normalize((0.5,), (0.5,))\n",
        "])\n",
        "test_dataset = datasets.MNIST(root='./data', train=False, download=True, transform=transform)\n",
        "\n",
        "# Select a specific test sample index where the label is 8\n",
        "test_sample_index = (test_dataset.targets == 8).nonzero(as_tuple=True)[0][5].item()\n",
        "img_tensor = test_dataset.data[test_sample_index].unsqueeze(0).unsqueeze(0).float()  # Shape: [1, 1, 28, 28]\n",
        "\n",
        "# Move input tensor to device\n",
        "img_tensor = img_tensor.to(device)\n",
        "\n",
        "# Convert the test sample into patches using the input layer\n",
        "patches = model.input_layer(img_tensor)  # Shape: [1, embed_dim, H, W]\n",
        "patches = patches.view(1, embed_dim, -1).permute(0, 2, 1)  # Shape: [1, num_patches, embed_dim]\n",
        "\n",
        "# Attach the class token and add the position embedding\n",
        "cls_token = model.cls_token.expand(1, -1, -1)  # Shape: [1, 1, embed_dim]\n",
        "pos_embedding = model.pos_embedding[:, :patches.size(1) + 1, :]  # Shape: [1, num_patches + 1, embed_dim]\n",
        "transformer_input = torch.cat((cls_token, patches), dim=1) + pos_embedding\n",
        "\n",
        "print(\"Input tensor to Transformer: \", transformer_input.shape)\n",
        "\n",
        "# Forward pass through the transformer layers\n",
        "for layer in model.transformer:\n",
        "    transformer_input = layer(transformer_input)\n",
        "\n",
        "print(\"Output shape after transformer layers: \", transformer_input.shape)\n",
        "\n",
        "# Expand the input using the first transformer layer's linear transformation\n",
        "transformer_input_expanded = model.transformer[0].linear1(transformer_input)  # Assuming linear1 exists\n",
        "\n",
        "print(\"transformer_input_expanded shape: \", transformer_input_expanded.shape)\n",
        "\n",
        "# Compute the last dimension\n",
        "last_dim = transformer_input_expanded.shape[2] // num_heads\n",
        "\n",
        "# Ensure last_dim is divisible by num_heads\n",
        "assert transformer_input_expanded.shape[2] % num_heads == 0, f\"Dimension mismatch: {transformer_input_expanded.shape[2]} is not divisible by {num_heads}\"\n",
        "\n",
        "# Split qkv into multiple q, k, and v vectors for multi-head attention\n",
        "qkv = transformer_input_expanded.view(transformer_input_expanded.size(0), transformer_input_expanded.size(1), num_heads, last_dim)\n",
        "qkv = qkv.permute(2, 0, 3, 1)  # Shape: [num_heads, batch_size, last_dim, num_patches+1]\n",
        "\n",
        "# Extract q, k, and v\n",
        "q, k, v = qkv[0], qkv[1], qkv[2]  # Each has shape: [batch_size, last_dim, num_patches+1]\n",
        "\n",
        "attention_matrix = torch.matmul(q.transpose(1, 2), k)\n",
        "\n",
        "print(\"Attention matrix shape: \", attention_matrix.shape)\n",
        "\n"
      ],
      "metadata": {
        "colab": {
          "base_uri": "https://localhost:8080/"
        },
        "id": "YG2nrRcbLNNw",
        "outputId": "0cd9c82a-1f3a-460e-c32a-2480889f3c58"
      },
      "execution_count": 24,
      "outputs": [
        {
          "output_type": "stream",
          "name": "stdout",
          "text": [
            "Input tensor to Transformer:  torch.Size([1, 17, 2304])\n",
            "Output shape after transformer layers:  torch.Size([1, 17, 2304])\n",
            "transformer_input_expanded shape:  torch.Size([1, 17, 2048])\n",
            "Attention matrix shape:  torch.Size([1, 17, 17])\n"
          ]
        }
      ]
    },
    {
      "cell_type": "code",
      "source": [
        "import torch\n",
        "attention_matrix_mean = torch.mean(attention_matrix, dim=0)\n",
        "residual_att = torch.eye(attention_matrix_mean.size(0)).to(device)\n",
        "aug_att_mat = attention_matrix_mean + residual_att\n",
        "aug_att_mat = aug_att_mat / aug_att_mat.sum(dim=-1, keepdim=True)\n",
        "\n",
        "joint_attentions = torch.zeros(aug_att_mat.size()).to(device)\n",
        "joint_attentions[0] = aug_att_mat[0]\n",
        "\n",
        "for n in range(1, aug_att_mat.size(0)):\n",
        "    joint_attentions[n] = torch.matmul(aug_att_mat[n], joint_attentions[n-1])\n",
        "\n",
        "print(\"Final joint attentions shape:\", joint_attentions.shape)\n"
      ],
      "metadata": {
        "colab": {
          "base_uri": "https://localhost:8080/"
        },
        "id": "29wxlysMN7xJ",
        "outputId": "d75caddd-6616-46fb-ad5c-fc6a12b72086"
      },
      "execution_count": 25,
      "outputs": [
        {
          "output_type": "stream",
          "name": "stdout",
          "text": [
            "Final joint attentions shape: torch.Size([17, 17])\n"
          ]
        }
      ]
    },
    {
      "cell_type": "code",
      "source": [
        "import torch\n",
        "import torch.nn.functional as F\n",
        "import matplotlib.pyplot as plt\n",
        "import numpy as np\n",
        "\n",
        "\n",
        "attn_heatmap = joint_attentions[0, 1:].reshape((int(image_size/patch_size), int(image_size/patch_size)))\n",
        "attn_heatmap_resized = F.interpolate(attn_heatmap.unsqueeze(0).unsqueeze(0), size=(image_size, image_size), mode='bilinear').view(image_size, image_size, 1)\n",
        "attn_heatmap_resized_np = attn_heatmap_resized.detach().cpu().numpy()\n",
        "fig, (ax1, ax2) = plt.subplots(1, 2, figsize=(12, 6))\n",
        "img = np.asarray(img_tensor.cpu().squeeze())\n",
        "ax1.imshow(img, cmap='gray')\n",
        "ax1.set_title('MNIST test sample')\n",
        "ax1.axis('off')\n",
        "ax2.imshow(attn_heatmap_resized_np.squeeze(), cmap='hot', interpolation='nearest')\n",
        "ax2.set_title('Attention heatmap')\n",
        "ax2.axis('off')\n",
        "\n",
        "plt.tight_layout()\n",
        "plt.show()\n"
      ],
      "metadata": {
        "colab": {
          "base_uri": "https://localhost:8080/",
          "height": 614
        },
        "id": "WKRe1tfNOV6Y",
        "outputId": "a6057c1c-08b4-40ff-f89b-3bbe73ce3ea5"
      },
      "execution_count": 28,
      "outputs": [
        {
          "output_type": "display_data",
          "data": {
            "text/plain": [
              "<Figure size 1200x600 with 2 Axes>"
            ],
            "image/png": "[encoded data removed]"
          },
          "metadata": {}
        }
      ]
    }
  ]
}